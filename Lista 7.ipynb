{
 "cells": [
  {
   "cell_type": "markdown",
   "id": "2c1a9e76",
   "metadata": {},
   "source": [
    "![dev1.jpg](imgs/dev1.jpg)"
   ]
  },
  {
   "cell_type": "markdown",
   "id": "f0a2209a",
   "metadata": {},
   "source": [
    "# **Exercícios de Pandas 🐼✨**"
   ]
  },
  {
   "cell_type": "markdown",
   "id": "b43b13ea",
   "metadata": {},
   "source": [
    "## **Lista de Exercício 7 - Pandas II**\n",
    "### Fala devs, blz? \n",
    "\n",
    "Essa é a nossa 7ª lista de exercícios, parabéns por ter chegado até aqui! 🚀\n",
    "\n",
    "Dessa vez, iremos fixar os conceitos aprendidos na segunda aula da biblioteca Pandas! Os exercícios a seguir abordam funções como `apply`, trabalhar com datas, agrupamentos e combinações de tabelas. Bora lá?\n"
   ]
  },
  {
   "cell_type": "markdown",
   "id": "fe1b07dd",
   "metadata": {},
   "source": [
    "## 🚀 Exercício 1: Trabalhando com `apply` e `apply(lambda)`"
   ]
  },
  {
   "cell_type": "markdown",
   "id": "a9c0e041",
   "metadata": {},
   "source": [
    "### O que você vai fazer:\n",
    "1. Crie um DataFrame com as seguintes colunas: Nome, Idade, Cidade e Salário.\n",
    "   ```plaintext\n",
    "   Nome: Antonio, Bernardo, Carolina, Diego\n",
    "   Idade: 25, 30, 35, 28\n",
    "   Cidade: São Paulo, Rio de Janeiro, Belo Horizonte, São Paulo\n",
    "   Salário: 3500, 4200, 3700, 3100\n",
    "   ```\n",
    "2. Adicione uma nova coluna **\"Faixa_Etaria\"**:\n",
    "   * Se a idade for menor que 30, escreva \"Jovem\".\n",
    "   * Se estiver entre 30 e 40 (inclusive), escreva \"Adulto\".\n",
    "   * Use ```apply``` ou ```apply(lambda)``` para fazer isso!\n",
    "\n",
    "3. Aplique um aumento de 10% no salário e atualize os valores da coluna ```Salário```\n",
    "\n",
    "Dica: dá pra usar ```apply(lamda)``` pra isso também!"
   ]
  },
  {
   "cell_type": "code",
   "execution_count": 3,
   "id": "ecf9b235",
   "metadata": {},
   "outputs": [],
   "source": [
    "import pandas as pd\n",
    "import matplotlib.pyplot as plt\n",
    "import seaborn as sns"
   ]
  },
  {
   "cell_type": "code",
   "execution_count": 4,
   "id": "fb3de3c6",
   "metadata": {},
   "outputs": [
    {
     "data": {
      "text/html": [
       "<div>\n",
       "<style scoped>\n",
       "    .dataframe tbody tr th:only-of-type {\n",
       "        vertical-align: middle;\n",
       "    }\n",
       "\n",
       "    .dataframe tbody tr th {\n",
       "        vertical-align: top;\n",
       "    }\n",
       "\n",
       "    .dataframe thead th {\n",
       "        text-align: right;\n",
       "    }\n",
       "</style>\n",
       "<table border=\"1\" class=\"dataframe\">\n",
       "  <thead>\n",
       "    <tr style=\"text-align: right;\">\n",
       "      <th></th>\n",
       "      <th>Nome</th>\n",
       "      <th>Idade</th>\n",
       "      <th>Cidade</th>\n",
       "      <th>Salário</th>\n",
       "    </tr>\n",
       "  </thead>\n",
       "  <tbody>\n",
       "    <tr>\n",
       "      <th>0</th>\n",
       "      <td>Antonio</td>\n",
       "      <td>25</td>\n",
       "      <td>São Paulo</td>\n",
       "      <td>3500</td>\n",
       "    </tr>\n",
       "    <tr>\n",
       "      <th>1</th>\n",
       "      <td>Bernardo</td>\n",
       "      <td>30</td>\n",
       "      <td>Rio de Janeiro</td>\n",
       "      <td>4200</td>\n",
       "    </tr>\n",
       "    <tr>\n",
       "      <th>2</th>\n",
       "      <td>Carolina</td>\n",
       "      <td>35</td>\n",
       "      <td>Belo Horizonte</td>\n",
       "      <td>3700</td>\n",
       "    </tr>\n",
       "    <tr>\n",
       "      <th>3</th>\n",
       "      <td>Diego</td>\n",
       "      <td>28</td>\n",
       "      <td>São Paulo</td>\n",
       "      <td>3100</td>\n",
       "    </tr>\n",
       "  </tbody>\n",
       "</table>\n",
       "</div>"
      ],
      "text/plain": [
       "       Nome  Idade           Cidade  Salário\n",
       "0   Antonio     25        São Paulo     3500\n",
       "1  Bernardo     30   Rio de Janeiro     4200\n",
       "2  Carolina     35   Belo Horizonte     3700\n",
       "3     Diego     28        São Paulo     3100"
      ]
     },
     "execution_count": 4,
     "metadata": {},
     "output_type": "execute_result"
    }
   ],
   "source": [
    "# 1- Criação do dataframe\n",
    "\n",
    "df_funcionarios = pd.DataFrame ({\"Nome\": [\"Antonio\", \"Bernardo\", \"Carolina\", \"Diego\"],\n",
    "                \"Idade\": [25, 30, 35, 28],\n",
    "                \"Cidade\": [\"São Paulo\", \" Rio de Janeiro\", \"Belo Horizonte\", \"São Paulo\"],\n",
    "                \"Salário\": [3500, 4200, 3700, 3100]\n",
    "                })\n",
    "df_funcionarios\n"
   ]
  },
  {
   "cell_type": "code",
   "execution_count": 11,
   "id": "1b076e63",
   "metadata": {},
   "outputs": [
    {
     "data": {
      "image/png": "[encoded data removed]",
      "text/plain": [
       "<Figure size 640x480 with 1 Axes>"
      ]
     },
     "metadata": {},
     "output_type": "display_data"
    }
   ],
   "source": [
    "nome = df_funcionarios['Nome']\n",
    "idade = df_funcionarios['Idade']\n",
    "\n",
    "plt.bar(nome, idade, color='r')\n",
    "#sns.barplot(x='Nome', y= 'Idade', data=df_funcionarios, color='b')\n",
    "plt.title('Idade dos clientes')\n",
    "plt.xlabel('Nome Clientes')\n",
    "plt.ylabel('Idades em anos')\n",
    "#plt.savefig('Grafico_Idade.pdf')\n",
    "plt.show()"
   ]
  },
  {
   "cell_type": "code",
   "execution_count": 3,
   "id": "46cad899",
   "metadata": {},
   "outputs": [
    {
     "data": {
      "text/html": [
       "<div>\n",
       "<style scoped>\n",
       "    .dataframe tbody tr th:only-of-type {\n",
       "        vertical-align: middle;\n",
       "    }\n",
       "\n",
       "    .dataframe tbody tr th {\n",
       "        vertical-align: top;\n",
       "    }\n",
       "\n",
       "    .dataframe thead th {\n",
       "        text-align: right;\n",
       "    }\n",
       "</style>\n",
       "<table border=\"1\" class=\"dataframe\">\n",
       "  <thead>\n",
       "    <tr style=\"text-align: right;\">\n",
       "      <th></th>\n",
       "      <th>Nome</th>\n",
       "      <th>Idade</th>\n",
       "      <th>Cidade</th>\n",
       "      <th>Salário</th>\n",
       "      <th>Faixa_Etaria</th>\n",
       "    </tr>\n",
       "  </thead>\n",
       "  <tbody>\n",
       "    <tr>\n",
       "      <th>0</th>\n",
       "      <td>Antonio</td>\n",
       "      <td>25</td>\n",
       "      <td>São Paulo</td>\n",
       "      <td>3500</td>\n",
       "      <td>Jovem</td>\n",
       "    </tr>\n",
       "    <tr>\n",
       "      <th>1</th>\n",
       "      <td>Bernardo</td>\n",
       "      <td>30</td>\n",
       "      <td>Rio de Janeiro</td>\n",
       "      <td>4200</td>\n",
       "      <td>Adulto</td>\n",
       "    </tr>\n",
       "    <tr>\n",
       "      <th>2</th>\n",
       "      <td>Carolina</td>\n",
       "      <td>35</td>\n",
       "      <td>Belo Horizonte</td>\n",
       "      <td>3700</td>\n",
       "      <td>Adulto</td>\n",
       "    </tr>\n",
       "    <tr>\n",
       "      <th>3</th>\n",
       "      <td>Diego</td>\n",
       "      <td>28</td>\n",
       "      <td>São Paulo</td>\n",
       "      <td>3100</td>\n",
       "      <td>Jovem</td>\n",
       "    </tr>\n",
       "  </tbody>\n",
       "</table>\n",
       "</div>"
      ],
      "text/plain": [
       "       Nome  Idade           Cidade  Salário Faixa_Etaria\n",
       "0   Antonio     25        São Paulo     3500        Jovem\n",
       "1  Bernardo     30   Rio de Janeiro     4200       Adulto\n",
       "2  Carolina     35   Belo Horizonte     3700       Adulto\n",
       "3     Diego     28        São Paulo     3100        Jovem"
      ]
     },
     "execution_count": 3,
     "metadata": {},
     "output_type": "execute_result"
    }
   ],
   "source": [
    "# 2- Adicionando a colouna Faixa Etaria\n",
    "\n",
    "df_funcionarios[\"Faixa_Etaria\"] = df_funcionarios[\"Idade\"].apply(lambda x: \"Jovem\" if x < 30 else \"Adulto\")\n",
    "df_funcionarios\n"
   ]
  },
  {
   "cell_type": "code",
   "execution_count": 4,
   "id": "ae4c927d",
   "metadata": {},
   "outputs": [
    {
     "data": {
      "text/html": [
       "<div>\n",
       "<style scoped>\n",
       "    .dataframe tbody tr th:only-of-type {\n",
       "        vertical-align: middle;\n",
       "    }\n",
       "\n",
       "    .dataframe tbody tr th {\n",
       "        vertical-align: top;\n",
       "    }\n",
       "\n",
       "    .dataframe thead th {\n",
       "        text-align: right;\n",
       "    }\n",
       "</style>\n",
       "<table border=\"1\" class=\"dataframe\">\n",
       "  <thead>\n",
       "    <tr style=\"text-align: right;\">\n",
       "      <th></th>\n",
       "      <th>Nome</th>\n",
       "      <th>Idade</th>\n",
       "      <th>Cidade</th>\n",
       "      <th>Salário</th>\n",
       "      <th>Faixa_Etaria</th>\n",
       "    </tr>\n",
       "  </thead>\n",
       "  <tbody>\n",
       "    <tr>\n",
       "      <th>0</th>\n",
       "      <td>Antonio</td>\n",
       "      <td>25</td>\n",
       "      <td>São Paulo</td>\n",
       "      <td>3850.0</td>\n",
       "      <td>Jovem</td>\n",
       "    </tr>\n",
       "    <tr>\n",
       "      <th>1</th>\n",
       "      <td>Bernardo</td>\n",
       "      <td>30</td>\n",
       "      <td>Rio de Janeiro</td>\n",
       "      <td>4620.0</td>\n",
       "      <td>Adulto</td>\n",
       "    </tr>\n",
       "    <tr>\n",
       "      <th>2</th>\n",
       "      <td>Carolina</td>\n",
       "      <td>35</td>\n",
       "      <td>Belo Horizonte</td>\n",
       "      <td>4070.0</td>\n",
       "      <td>Adulto</td>\n",
       "    </tr>\n",
       "    <tr>\n",
       "      <th>3</th>\n",
       "      <td>Diego</td>\n",
       "      <td>28</td>\n",
       "      <td>São Paulo</td>\n",
       "      <td>3410.0</td>\n",
       "      <td>Jovem</td>\n",
       "    </tr>\n",
       "  </tbody>\n",
       "</table>\n",
       "</div>"
      ],
      "text/plain": [
       "       Nome  Idade           Cidade  Salário Faixa_Etaria\n",
       "0   Antonio     25        São Paulo   3850.0        Jovem\n",
       "1  Bernardo     30   Rio de Janeiro   4620.0       Adulto\n",
       "2  Carolina     35   Belo Horizonte   4070.0       Adulto\n",
       "3     Diego     28        São Paulo   3410.0        Jovem"
      ]
     },
     "execution_count": 4,
     "metadata": {},
     "output_type": "execute_result"
    }
   ],
   "source": [
    "# 3- Aplicando o aumento de 10% no salário\n",
    "\n",
    "df_funcionarios['Salário'] = df_funcionarios['Salário'].apply(lambda x: (x * 10)/100 + x)\n",
    "df_funcionarios"
   ]
  },
  {
   "cell_type": "markdown",
   "id": "0b91f96b",
   "metadata": {},
   "source": [
    "## 🗓️ **Exercício 2: Datas no Pandas**"
   ]
  },
  {
   "cell_type": "markdown",
   "id": "3bc78eb2",
   "metadata": {},
   "source": [
    "### O que você vai fazer:\n",
    "1. Crie um DataFrame com duas colunas: Nome e Data_Nascimento.\n",
    "   ```plaintext\n",
    "   Nome: Antonio, Bernardo, Carolina, Diego\n",
    "   Data_Nascimento: 1998-06-15, 1993-09-21, 1988-11-03, 1995-03-12\n",
    "   ```\n",
    "2. Converta a coluna `Data_Nascimento` para o formato de **datas do Pandas** usando `pd.to_datetime`.  \n",
    "3. Extraia o **ano de nascimento** e crie uma nova coluna chamada `Ano_Nascimento`.  \n",
    "4. Crie mais uma coluna chamada `Mes_Dia` que contenha apenas o mês e o dia, no formato `MM-DD`.  \n",
    "\n",
    "Dica: Para formatar datas, você pode usar `.strftime`."
   ]
  },
  {
   "cell_type": "code",
   "execution_count": 5,
   "id": "85d65e47",
   "metadata": {},
   "outputs": [
    {
     "data": {
      "text/html": [
       "<div>\n",
       "<style scoped>\n",
       "    .dataframe tbody tr th:only-of-type {\n",
       "        vertical-align: middle;\n",
       "    }\n",
       "\n",
       "    .dataframe tbody tr th {\n",
       "        vertical-align: top;\n",
       "    }\n",
       "\n",
       "    .dataframe thead th {\n",
       "        text-align: right;\n",
       "    }\n",
       "</style>\n",
       "<table border=\"1\" class=\"dataframe\">\n",
       "  <thead>\n",
       "    <tr style=\"text-align: right;\">\n",
       "      <th></th>\n",
       "      <th>Nome</th>\n",
       "      <th>Data_Nascimento</th>\n",
       "    </tr>\n",
       "  </thead>\n",
       "  <tbody>\n",
       "    <tr>\n",
       "      <th>0</th>\n",
       "      <td>Antonio</td>\n",
       "      <td>1998-06-15</td>\n",
       "    </tr>\n",
       "    <tr>\n",
       "      <th>1</th>\n",
       "      <td>Bernardo</td>\n",
       "      <td>1993-09-21</td>\n",
       "    </tr>\n",
       "    <tr>\n",
       "      <th>2</th>\n",
       "      <td>Carolina</td>\n",
       "      <td>1988-11-03</td>\n",
       "    </tr>\n",
       "    <tr>\n",
       "      <th>3</th>\n",
       "      <td>Diego</td>\n",
       "      <td>1995-03-12</td>\n",
       "    </tr>\n",
       "  </tbody>\n",
       "</table>\n",
       "</div>"
      ],
      "text/plain": [
       "       Nome Data_Nascimento\n",
       "0   Antonio      1998-06-15\n",
       "1  Bernardo      1993-09-21\n",
       "2  Carolina      1988-11-03\n",
       "3     Diego      1995-03-12"
      ]
     },
     "execution_count": 5,
     "metadata": {},
     "output_type": "execute_result"
    }
   ],
   "source": [
    "# 1- Criação do dataframe\n",
    "\n",
    "df_aniversario = pd.DataFrame ({\"Nome\": [\"Antonio\", \"Bernardo\", \"Carolina\", \"Diego\"],\n",
    "          \"Data_Nascimento\": [\"1998-06-15\", \"1993-09-21\", \"1988-11-03\", \"1995-03-12\"]\n",
    "          })\n",
    "\n",
    "df_aniversario\n"
   ]
  },
  {
   "cell_type": "code",
   "execution_count": 6,
   "id": "f5851f40",
   "metadata": {},
   "outputs": [
    {
     "data": {
      "text/html": [
       "<div>\n",
       "<style scoped>\n",
       "    .dataframe tbody tr th:only-of-type {\n",
       "        vertical-align: middle;\n",
       "    }\n",
       "\n",
       "    .dataframe tbody tr th {\n",
       "        vertical-align: top;\n",
       "    }\n",
       "\n",
       "    .dataframe thead th {\n",
       "        text-align: right;\n",
       "    }\n",
       "</style>\n",
       "<table border=\"1\" class=\"dataframe\">\n",
       "  <thead>\n",
       "    <tr style=\"text-align: right;\">\n",
       "      <th></th>\n",
       "      <th>Nome</th>\n",
       "      <th>Data_Nascimento</th>\n",
       "    </tr>\n",
       "  </thead>\n",
       "  <tbody>\n",
       "    <tr>\n",
       "      <th>0</th>\n",
       "      <td>Antonio</td>\n",
       "      <td>1998-06-15</td>\n",
       "    </tr>\n",
       "    <tr>\n",
       "      <th>1</th>\n",
       "      <td>Bernardo</td>\n",
       "      <td>1993-09-21</td>\n",
       "    </tr>\n",
       "    <tr>\n",
       "      <th>2</th>\n",
       "      <td>Carolina</td>\n",
       "      <td>1988-11-03</td>\n",
       "    </tr>\n",
       "    <tr>\n",
       "      <th>3</th>\n",
       "      <td>Diego</td>\n",
       "      <td>1995-03-12</td>\n",
       "    </tr>\n",
       "  </tbody>\n",
       "</table>\n",
       "</div>"
      ],
      "text/plain": [
       "       Nome Data_Nascimento\n",
       "0   Antonio      1998-06-15\n",
       "1  Bernardo      1993-09-21\n",
       "2  Carolina      1988-11-03\n",
       "3     Diego      1995-03-12"
      ]
     },
     "execution_count": 6,
     "metadata": {},
     "output_type": "execute_result"
    }
   ],
   "source": [
    "# 2- Converter coluna Data_Nascimento para formato datas do pandas\n",
    "\n",
    "df_aniversario[\"Data_Nascimento\"] = pd.to_datetime(df_aniversario['Data_Nascimento'])\n",
    "df_aniversario\n"
   ]
  },
  {
   "cell_type": "code",
   "execution_count": 7,
   "id": "f1afb38f",
   "metadata": {},
   "outputs": [
    {
     "data": {
      "text/html": [
       "<div>\n",
       "<style scoped>\n",
       "    .dataframe tbody tr th:only-of-type {\n",
       "        vertical-align: middle;\n",
       "    }\n",
       "\n",
       "    .dataframe tbody tr th {\n",
       "        vertical-align: top;\n",
       "    }\n",
       "\n",
       "    .dataframe thead th {\n",
       "        text-align: right;\n",
       "    }\n",
       "</style>\n",
       "<table border=\"1\" class=\"dataframe\">\n",
       "  <thead>\n",
       "    <tr style=\"text-align: right;\">\n",
       "      <th></th>\n",
       "      <th>Nome</th>\n",
       "      <th>Data_Nascimento</th>\n",
       "      <th>Ano Nascimento</th>\n",
       "    </tr>\n",
       "  </thead>\n",
       "  <tbody>\n",
       "    <tr>\n",
       "      <th>0</th>\n",
       "      <td>Antonio</td>\n",
       "      <td>1998-06-15</td>\n",
       "      <td>1998</td>\n",
       "    </tr>\n",
       "    <tr>\n",
       "      <th>1</th>\n",
       "      <td>Bernardo</td>\n",
       "      <td>1993-09-21</td>\n",
       "      <td>1993</td>\n",
       "    </tr>\n",
       "    <tr>\n",
       "      <th>2</th>\n",
       "      <td>Carolina</td>\n",
       "      <td>1988-11-03</td>\n",
       "      <td>1988</td>\n",
       "    </tr>\n",
       "    <tr>\n",
       "      <th>3</th>\n",
       "      <td>Diego</td>\n",
       "      <td>1995-03-12</td>\n",
       "      <td>1995</td>\n",
       "    </tr>\n",
       "  </tbody>\n",
       "</table>\n",
       "</div>"
      ],
      "text/plain": [
       "       Nome Data_Nascimento  Ano Nascimento\n",
       "0   Antonio      1998-06-15            1998\n",
       "1  Bernardo      1993-09-21            1993\n",
       "2  Carolina      1988-11-03            1988\n",
       "3     Diego      1995-03-12            1995"
      ]
     },
     "execution_count": 7,
     "metadata": {},
     "output_type": "execute_result"
    }
   ],
   "source": [
    "# 3- Extrair Ano de Nascimento\n",
    "\n",
    "df_aniversario[\"Ano Nascimento\"] = df_aniversario[\"Data_Nascimento\"].dt.year\n",
    "df_aniversario\n"
   ]
  },
  {
   "cell_type": "code",
   "execution_count": 8,
   "id": "2ff3d333",
   "metadata": {},
   "outputs": [
    {
     "data": {
      "text/html": [
       "<div>\n",
       "<style scoped>\n",
       "    .dataframe tbody tr th:only-of-type {\n",
       "        vertical-align: middle;\n",
       "    }\n",
       "\n",
       "    .dataframe tbody tr th {\n",
       "        vertical-align: top;\n",
       "    }\n",
       "\n",
       "    .dataframe thead th {\n",
       "        text-align: right;\n",
       "    }\n",
       "</style>\n",
       "<table border=\"1\" class=\"dataframe\">\n",
       "  <thead>\n",
       "    <tr style=\"text-align: right;\">\n",
       "      <th></th>\n",
       "      <th>Nome</th>\n",
       "      <th>Data_Nascimento</th>\n",
       "      <th>Ano Nascimento</th>\n",
       "      <th>Mês_Dia</th>\n",
       "    </tr>\n",
       "  </thead>\n",
       "  <tbody>\n",
       "    <tr>\n",
       "      <th>0</th>\n",
       "      <td>Antonio</td>\n",
       "      <td>1998-06-15</td>\n",
       "      <td>1998</td>\n",
       "      <td>06-15</td>\n",
       "    </tr>\n",
       "    <tr>\n",
       "      <th>1</th>\n",
       "      <td>Bernardo</td>\n",
       "      <td>1993-09-21</td>\n",
       "      <td>1993</td>\n",
       "      <td>09-21</td>\n",
       "    </tr>\n",
       "    <tr>\n",
       "      <th>2</th>\n",
       "      <td>Carolina</td>\n",
       "      <td>1988-11-03</td>\n",
       "      <td>1988</td>\n",
       "      <td>11-03</td>\n",
       "    </tr>\n",
       "    <tr>\n",
       "      <th>3</th>\n",
       "      <td>Diego</td>\n",
       "      <td>1995-03-12</td>\n",
       "      <td>1995</td>\n",
       "      <td>03-12</td>\n",
       "    </tr>\n",
       "  </tbody>\n",
       "</table>\n",
       "</div>"
      ],
      "text/plain": [
       "       Nome Data_Nascimento  Ano Nascimento Mês_Dia\n",
       "0   Antonio      1998-06-15            1998   06-15\n",
       "1  Bernardo      1993-09-21            1993   09-21\n",
       "2  Carolina      1988-11-03            1988   11-03\n",
       "3     Diego      1995-03-12            1995   03-12"
      ]
     },
     "execution_count": 8,
     "metadata": {},
     "output_type": "execute_result"
    }
   ],
   "source": [
    "# 4- Criar coluna Mês/dia no formato MM/DD\n",
    "\n",
    "df_aniversario[\"Mês_Dia\"] = df_aniversario[\"Data_Nascimento\"].dt.strftime(\"%m-%d\")\n",
    "df_aniversario\n"
   ]
  },
  {
   "cell_type": "markdown",
   "id": "9dc54907",
   "metadata": {},
   "source": [
    "## 📊 **Exercício 3: Agrupamentos e Pivot Tables**"
   ]
  },
  {
   "cell_type": "markdown",
   "id": "4f51c322",
   "metadata": {},
   "source": [
    "### O que você vai fazer:\n",
    "1. Crie um DataFrame com dados de vendas:\n",
    "   ```plaintext\n",
    "   Produto: Produto1, Produto2, Produto3, Produto4, Produto5, Produto6\n",
    "   Categoria: A, B, A, B, A, B\n",
    "   Valor: 500, 700, 200, 400, 800, 300\n",
    "   Vendedor: Antonio, Bernardo, Antonio, Diego, Carolina, Bernardo\n",
    "   Mês: Janeiro, Janeiro, Fevereiro, Fevereiro, Janeiro, Fevereiro\n",
    "   ```\n",
    "2. Use o `groupby` para somar os valores (`Valor`) por **Categoria**.\n",
    "3. Crie uma tabela dinâmica (usando `pivot_table`) que mostre as vendas totais por **Mês** e **Vendedor**.\n",
    "\n",
    "Dica: Não se preocupe com valores faltantes, o `pivot_table` pode lidar com isso facilmente usando `fill_value=0`."
   ]
  },
  {
   "cell_type": "code",
   "execution_count": 9,
   "id": "67b32ccf",
   "metadata": {},
   "outputs": [
    {
     "data": {
      "text/html": [
       "<div>\n",
       "<style scoped>\n",
       "    .dataframe tbody tr th:only-of-type {\n",
       "        vertical-align: middle;\n",
       "    }\n",
       "\n",
       "    .dataframe tbody tr th {\n",
       "        vertical-align: top;\n",
       "    }\n",
       "\n",
       "    .dataframe thead th {\n",
       "        text-align: right;\n",
       "    }\n",
       "</style>\n",
       "<table border=\"1\" class=\"dataframe\">\n",
       "  <thead>\n",
       "    <tr style=\"text-align: right;\">\n",
       "      <th></th>\n",
       "      <th>Produto</th>\n",
       "      <th>Categoria</th>\n",
       "      <th>Valor</th>\n",
       "      <th>Vendedor</th>\n",
       "      <th>Mês</th>\n",
       "    </tr>\n",
       "  </thead>\n",
       "  <tbody>\n",
       "    <tr>\n",
       "      <th>0</th>\n",
       "      <td>Produto1</td>\n",
       "      <td>A</td>\n",
       "      <td>500</td>\n",
       "      <td>Antonio</td>\n",
       "      <td>Janeiro</td>\n",
       "    </tr>\n",
       "    <tr>\n",
       "      <th>1</th>\n",
       "      <td>Produto2</td>\n",
       "      <td>B</td>\n",
       "      <td>700</td>\n",
       "      <td>Bernardo</td>\n",
       "      <td>Janeiro</td>\n",
       "    </tr>\n",
       "    <tr>\n",
       "      <th>2</th>\n",
       "      <td>Produto3</td>\n",
       "      <td>A</td>\n",
       "      <td>200</td>\n",
       "      <td>Antonio</td>\n",
       "      <td>Fevereiro</td>\n",
       "    </tr>\n",
       "    <tr>\n",
       "      <th>3</th>\n",
       "      <td>Produto4</td>\n",
       "      <td>B</td>\n",
       "      <td>400</td>\n",
       "      <td>Diego</td>\n",
       "      <td>Fevereiro</td>\n",
       "    </tr>\n",
       "    <tr>\n",
       "      <th>4</th>\n",
       "      <td>Produto5</td>\n",
       "      <td>A</td>\n",
       "      <td>800</td>\n",
       "      <td>Carolina</td>\n",
       "      <td>Janeiro</td>\n",
       "    </tr>\n",
       "    <tr>\n",
       "      <th>5</th>\n",
       "      <td>Produto6</td>\n",
       "      <td>B</td>\n",
       "      <td>300</td>\n",
       "      <td>Bernardo</td>\n",
       "      <td>Fevereiro</td>\n",
       "    </tr>\n",
       "  </tbody>\n",
       "</table>\n",
       "</div>"
      ],
      "text/plain": [
       "    Produto Categoria  Valor  Vendedor        Mês\n",
       "0  Produto1         A    500   Antonio    Janeiro\n",
       "1  Produto2         B    700  Bernardo    Janeiro\n",
       "2  Produto3         A    200   Antonio  Fevereiro\n",
       "3  Produto4         B    400     Diego  Fevereiro\n",
       "4  Produto5         A    800  Carolina    Janeiro\n",
       "5  Produto6         B    300  Bernardo  Fevereiro"
      ]
     },
     "execution_count": 9,
     "metadata": {},
     "output_type": "execute_result"
    }
   ],
   "source": [
    "# 1- Criação do dataframe\n",
    "\n",
    "df_vendas = pd.DataFrame({\"Produto\": [\"Produto1\", \"Produto2\", \"Produto3\", \"Produto4\", \"Produto5\", \"Produto6\"],\n",
    "                          \"Categoria\": [\"A\", \"B\", \"A\", \"B\", \"A\", \"B\"],\n",
    "                          \"Valor\": [500, 700, 200, 400, 800, 300],\n",
    "                          \"Vendedor\": [\"Antonio\", \"Bernardo\", \"Antonio\", \"Diego\", \"Carolina\", \"Bernardo\"],\n",
    "                          \"Mês\": [\"Janeiro\", \"Janeiro\", \"Fevereiro\", \"Fevereiro\", \"Janeiro\", \"Fevereiro\"]\n",
    "                          })\n",
    "df_vendas\n"
   ]
  },
  {
   "cell_type": "code",
   "execution_count": 10,
   "id": "43a8d7f1",
   "metadata": {},
   "outputs": [
    {
     "data": {
      "text/plain": [
       "Categoria\n",
       "A    1500\n",
       "B    1400\n",
       "Name: Valor, dtype: int64"
      ]
     },
     "execution_count": 10,
     "metadata": {},
     "output_type": "execute_result"
    }
   ],
   "source": [
    "# 2- Usar Groupby para somar os valores\n",
    "\n",
    "df_vendas.groupby(\"Categoria\")[\"Valor\"].sum()\n"
   ]
  },
  {
   "cell_type": "code",
   "execution_count": 11,
   "id": "1b34d10b",
   "metadata": {},
   "outputs": [
    {
     "data": {
      "text/html": [
       "<div>\n",
       "<style scoped>\n",
       "    .dataframe tbody tr th:only-of-type {\n",
       "        vertical-align: middle;\n",
       "    }\n",
       "\n",
       "    .dataframe tbody tr th {\n",
       "        vertical-align: top;\n",
       "    }\n",
       "\n",
       "    .dataframe thead th {\n",
       "        text-align: right;\n",
       "    }\n",
       "</style>\n",
       "<table border=\"1\" class=\"dataframe\">\n",
       "  <thead>\n",
       "    <tr style=\"text-align: right;\">\n",
       "      <th>Vendedor</th>\n",
       "      <th>Antonio</th>\n",
       "      <th>Bernardo</th>\n",
       "      <th>Carolina</th>\n",
       "      <th>Diego</th>\n",
       "    </tr>\n",
       "    <tr>\n",
       "      <th>Mês</th>\n",
       "      <th></th>\n",
       "      <th></th>\n",
       "      <th></th>\n",
       "      <th></th>\n",
       "    </tr>\n",
       "  </thead>\n",
       "  <tbody>\n",
       "    <tr>\n",
       "      <th>Fevereiro</th>\n",
       "      <td>200</td>\n",
       "      <td>300</td>\n",
       "      <td>0</td>\n",
       "      <td>400</td>\n",
       "    </tr>\n",
       "    <tr>\n",
       "      <th>Janeiro</th>\n",
       "      <td>500</td>\n",
       "      <td>700</td>\n",
       "      <td>800</td>\n",
       "      <td>0</td>\n",
       "    </tr>\n",
       "  </tbody>\n",
       "</table>\n",
       "</div>"
      ],
      "text/plain": [
       "Vendedor   Antonio  Bernardo  Carolina  Diego\n",
       "Mês                                          \n",
       "Fevereiro      200       300         0    400\n",
       "Janeiro        500       700       800      0"
      ]
     },
     "execution_count": 11,
     "metadata": {},
     "output_type": "execute_result"
    }
   ],
   "source": [
    "# 3- Criação da tabela dinâmica usando Pivot\n",
    "\n",
    "df_vendas.pivot_table(values=\"Valor\", index=\"Mês\", columns=\"Vendedor\", aggfunc=\"sum\", fill_value= 0)\n"
   ]
  },
  {
   "cell_type": "markdown",
   "id": "c7346ac7",
   "metadata": {},
   "source": [
    "## 🔗 **Exercício 4: Juntando tabelas com `merge`**"
   ]
  },
  {
   "cell_type": "markdown",
   "id": "a9c30d8b",
   "metadata": {},
   "source": [
    "### O que você vai fazer:\n",
    "1. Crie dois DataFrames:\n",
    "   - **Clientes**:\n",
    "     ```plaintext\n",
    "     ClienteID: 1, 2, 3\n",
    "     Nome: Antonio, Bernardo, Diego\n",
    "     Cidade: São Paulo, Rio de Janeiro, Belo Horizonte\n",
    "     ```\n",
    "   - **Compras**:\n",
    "     ```plaintext\n",
    "     CompraID: 101, 102, 103, 104\n",
    "     ClienteID: 1, 2, 3, 1\n",
    "     Produto: Produto1, Produto2, Produto3, Produto4\n",
    "     Valor: 500, 700, 300, 400\n",
    "     ```\n",
    "2. Combine essas tabelas usando `merge` para ligar os clientes às suas compras, com base no campo `ClienteID`.\n",
    "3. Calcule o total gasto por cada cliente e crie uma tabela com o nome do cliente e o valor total."
   ]
  },
  {
   "cell_type": "code",
   "execution_count": 12,
   "id": "5d090d5e",
   "metadata": {},
   "outputs": [
    {
     "data": {
      "text/html": [
       "<div>\n",
       "<style scoped>\n",
       "    .dataframe tbody tr th:only-of-type {\n",
       "        vertical-align: middle;\n",
       "    }\n",
       "\n",
       "    .dataframe tbody tr th {\n",
       "        vertical-align: top;\n",
       "    }\n",
       "\n",
       "    .dataframe thead th {\n",
       "        text-align: right;\n",
       "    }\n",
       "</style>\n",
       "<table border=\"1\" class=\"dataframe\">\n",
       "  <thead>\n",
       "    <tr style=\"text-align: right;\">\n",
       "      <th></th>\n",
       "      <th>ClienteID</th>\n",
       "      <th>Nome</th>\n",
       "      <th>Cidade</th>\n",
       "    </tr>\n",
       "  </thead>\n",
       "  <tbody>\n",
       "    <tr>\n",
       "      <th>0</th>\n",
       "      <td>1</td>\n",
       "      <td>Antonio</td>\n",
       "      <td>São Paulo</td>\n",
       "    </tr>\n",
       "    <tr>\n",
       "      <th>1</th>\n",
       "      <td>2</td>\n",
       "      <td>Bernardo</td>\n",
       "      <td>Rio de Janeiro</td>\n",
       "    </tr>\n",
       "    <tr>\n",
       "      <th>2</th>\n",
       "      <td>3</td>\n",
       "      <td>Diego</td>\n",
       "      <td>Belo Horizonte</td>\n",
       "    </tr>\n",
       "  </tbody>\n",
       "</table>\n",
       "</div>"
      ],
      "text/plain": [
       "   ClienteID      Nome          Cidade\n",
       "0          1   Antonio       São Paulo\n",
       "1          2  Bernardo  Rio de Janeiro\n",
       "2          3     Diego  Belo Horizonte"
      ]
     },
     "execution_count": 12,
     "metadata": {},
     "output_type": "execute_result"
    }
   ],
   "source": [
    "# 1- Criação do dataframe 1 (Clientes)\n",
    "\n",
    "df_Clientes = pd.DataFrame({\"ClienteID\": [1, 2, 3],\n",
    "                            \"Nome\": [\"Antonio\", \"Bernardo\", \"Diego\"],\n",
    "                            \"Cidade\": [\"São Paulo\", \"Rio de Janeiro\", \"Belo Horizonte\"]\n",
    "                            })\n",
    "\n",
    "df_Clientes\n"
   ]
  },
  {
   "cell_type": "code",
   "execution_count": 13,
   "id": "640ab8b4",
   "metadata": {},
   "outputs": [
    {
     "data": {
      "text/html": [
       "<div>\n",
       "<style scoped>\n",
       "    .dataframe tbody tr th:only-of-type {\n",
       "        vertical-align: middle;\n",
       "    }\n",
       "\n",
       "    .dataframe tbody tr th {\n",
       "        vertical-align: top;\n",
       "    }\n",
       "\n",
       "    .dataframe thead th {\n",
       "        text-align: right;\n",
       "    }\n",
       "</style>\n",
       "<table border=\"1\" class=\"dataframe\">\n",
       "  <thead>\n",
       "    <tr style=\"text-align: right;\">\n",
       "      <th></th>\n",
       "      <th>CompraID</th>\n",
       "      <th>ClienteID</th>\n",
       "      <th>Produto</th>\n",
       "      <th>Valor</th>\n",
       "    </tr>\n",
       "  </thead>\n",
       "  <tbody>\n",
       "    <tr>\n",
       "      <th>0</th>\n",
       "      <td>101</td>\n",
       "      <td>1</td>\n",
       "      <td>Produto1</td>\n",
       "      <td>500</td>\n",
       "    </tr>\n",
       "    <tr>\n",
       "      <th>1</th>\n",
       "      <td>102</td>\n",
       "      <td>2</td>\n",
       "      <td>Produto2</td>\n",
       "      <td>700</td>\n",
       "    </tr>\n",
       "    <tr>\n",
       "      <th>2</th>\n",
       "      <td>103</td>\n",
       "      <td>3</td>\n",
       "      <td>Produto3</td>\n",
       "      <td>300</td>\n",
       "    </tr>\n",
       "    <tr>\n",
       "      <th>3</th>\n",
       "      <td>104</td>\n",
       "      <td>1</td>\n",
       "      <td>Produto4</td>\n",
       "      <td>400</td>\n",
       "    </tr>\n",
       "  </tbody>\n",
       "</table>\n",
       "</div>"
      ],
      "text/plain": [
       "   CompraID  ClienteID   Produto  Valor\n",
       "0       101          1  Produto1    500\n",
       "1       102          2  Produto2    700\n",
       "2       103          3  Produto3    300\n",
       "3       104          1  Produto4    400"
      ]
     },
     "execution_count": 13,
     "metadata": {},
     "output_type": "execute_result"
    }
   ],
   "source": [
    "# 1- Criação do dataframe 2 (Compras)\n",
    "\n",
    "df_Compras = pd.DataFrame({\"CompraID\": [101, 102, 103, 104],\n",
    "                           \"ClienteID\": [1, 2, 3, 1],\n",
    "                           \"Produto\": [\"Produto1\", \"Produto2\", \"Produto3\", \"Produto4\"],\n",
    "                           \"Valor\": [500, 700, 300, 400]\n",
    "                           })\n",
    "\n",
    "df_Compras\n"
   ]
  },
  {
   "cell_type": "code",
   "execution_count": 14,
   "id": "fa55aa44",
   "metadata": {},
   "outputs": [
    {
     "data": {
      "text/html": [
       "<div>\n",
       "<style scoped>\n",
       "    .dataframe tbody tr th:only-of-type {\n",
       "        vertical-align: middle;\n",
       "    }\n",
       "\n",
       "    .dataframe tbody tr th {\n",
       "        vertical-align: top;\n",
       "    }\n",
       "\n",
       "    .dataframe thead th {\n",
       "        text-align: right;\n",
       "    }\n",
       "</style>\n",
       "<table border=\"1\" class=\"dataframe\">\n",
       "  <thead>\n",
       "    <tr style=\"text-align: right;\">\n",
       "      <th></th>\n",
       "      <th>ClienteID</th>\n",
       "      <th>Nome</th>\n",
       "      <th>Cidade</th>\n",
       "      <th>CompraID</th>\n",
       "      <th>Produto</th>\n",
       "      <th>Valor</th>\n",
       "    </tr>\n",
       "  </thead>\n",
       "  <tbody>\n",
       "    <tr>\n",
       "      <th>0</th>\n",
       "      <td>1</td>\n",
       "      <td>Antonio</td>\n",
       "      <td>São Paulo</td>\n",
       "      <td>101</td>\n",
       "      <td>Produto1</td>\n",
       "      <td>500</td>\n",
       "    </tr>\n",
       "    <tr>\n",
       "      <th>1</th>\n",
       "      <td>1</td>\n",
       "      <td>Antonio</td>\n",
       "      <td>São Paulo</td>\n",
       "      <td>104</td>\n",
       "      <td>Produto4</td>\n",
       "      <td>400</td>\n",
       "    </tr>\n",
       "    <tr>\n",
       "      <th>2</th>\n",
       "      <td>2</td>\n",
       "      <td>Bernardo</td>\n",
       "      <td>Rio de Janeiro</td>\n",
       "      <td>102</td>\n",
       "      <td>Produto2</td>\n",
       "      <td>700</td>\n",
       "    </tr>\n",
       "    <tr>\n",
       "      <th>3</th>\n",
       "      <td>3</td>\n",
       "      <td>Diego</td>\n",
       "      <td>Belo Horizonte</td>\n",
       "      <td>103</td>\n",
       "      <td>Produto3</td>\n",
       "      <td>300</td>\n",
       "    </tr>\n",
       "  </tbody>\n",
       "</table>\n",
       "</div>"
      ],
      "text/plain": [
       "   ClienteID      Nome          Cidade  CompraID   Produto  Valor\n",
       "0          1   Antonio       São Paulo       101  Produto1    500\n",
       "1          1   Antonio       São Paulo       104  Produto4    400\n",
       "2          2  Bernardo  Rio de Janeiro       102  Produto2    700\n",
       "3          3     Diego  Belo Horizonte       103  Produto3    300"
      ]
     },
     "execution_count": 14,
     "metadata": {},
     "output_type": "execute_result"
    }
   ],
   "source": [
    "# 2- Combinando tabelas com Merge\n",
    "\n",
    "clientes_compras = pd.merge(df_Clientes, df_Compras, on=\"ClienteID\", how= \"inner\")\n",
    "clientes_compras"
   ]
  },
  {
   "cell_type": "code",
   "execution_count": 15,
   "id": "277bd7eb",
   "metadata": {},
   "outputs": [
    {
     "data": {
      "text/plain": [
       "Nome\n",
       "Antonio     900\n",
       "Bernardo    700\n",
       "Diego       300\n",
       "Name: Valor, dtype: int64"
      ]
     },
     "execution_count": 15,
     "metadata": {},
     "output_type": "execute_result"
    }
   ],
   "source": [
    "# 3- Calcular total gasto por cada cliente\n",
    "\n",
    "total_gasto_por_cliente = clientes_compras.groupby(\"Nome\")[\"Valor\"].sum()\n",
    "total_gasto_por_cliente\n"
   ]
  },
  {
   "cell_type": "markdown",
   "id": "81221080",
   "metadata": {},
   "source": [
    "# **Desafio: 🔒 Gerador de Senhas Personalizadas**\n"
   ]
  },
  {
   "cell_type": "markdown",
   "id": "114e03d5",
   "metadata": {},
   "source": [
    "Você está criando um sistema que gera senhas personalizadas para os usuários com base em suas informações pessoais. As senhas precisam ser únicas e seguras, mas também fáceis de lembrar.\n",
    "\n",
    "1. **Crie um programa que peça ao usuário seu nome e uma data**. O programa deve gerar uma senha usando a seguinte lógica:\n",
    "   - As 3 primeiras letras do nome.\n",
    "   - Os dois primeiros dígitos do ano.\n",
    "   - O número de caracteres do nome completo (incluindo espaços).\n",
    "\n",
    "   **Exemplo**: Para um usuário chamado \"Diego Beatriz Costa\" e \"15/08/1990\", a senha seria: `Diego19 18`.\n",
    "\n",
    "2. **Modifique o programa para transformar as letras da senha gerada em letras maiúsculas e adicionar um caractere especial \"!\" no final da senha**.\n",
    "\n",
    "   **Exemplo modificado**: A senha final seria: `Diego19 18!`.\n"
   ]
  },
  {
   "cell_type": "code",
   "execution_count": 16,
   "id": "18395b0c",
   "metadata": {},
   "outputs": [
    {
     "data": {
      "text/plain": [
       "'DIE19 19!'"
      ]
     },
     "execution_count": 16,
     "metadata": {},
     "output_type": "execute_result"
    }
   ],
   "source": [
    "# 1- Função para gerar a senha\n",
    "\n",
    "nome = input(\"Digite seu nome completo, por favor: \")\n",
    "data = input(\"Agora digite a data de seu nascimento no formato DD/MM/AAAA: \")\n",
    "\n",
    "def gerar_senha():\n",
    "    letras_nome = nome[:3]\n",
    "    ano = data.split(\"/\")[-1]\n",
    "    digitos_ano = ano[:2]\n",
    "    numero_nome = len(nome)\n",
    "    \n",
    "    senha_inicial = f\"{letras_nome}{digitos_ano} {numero_nome}\"\n",
    "\n",
    "    senha_modificada = senha_inicial.upper() + \"!\"\n",
    "    return senha_modificada\n",
    "\n",
    "gerar_senha()\n"
   ]
  },
  {
   "cell_type": "code",
   "execution_count": 17,
   "id": "58be60ce",
   "metadata": {},
   "outputs": [
    {
     "name": "stdout",
     "output_type": "stream",
     "text": [
      "                  Nome      Senha\n",
      "0  Diego Beatriz Costa  DIE19 19!\n"
     ]
    }
   ],
   "source": [
    "# Função para gerar a senha com Pandas\n",
    "\n",
    "from datetime import datetime\n",
    "\n",
    "nome = input(\"Digite seu nome completo, por favor: \")\n",
    "data = input(\"Agora digite a data de seu nascimento no formato DD/MM/AAAA: \")\n",
    "\n",
    "def gerar_senha(nome, data):\n",
    "    letras_nome = nome[:3]\n",
    "    ano = datetime.strptime(data, \"%d/%m/%Y\")\n",
    "    digitos_ano = str(ano.year)[:2]\n",
    "    numero_nome = len(nome)\n",
    "\n",
    "    senha_inicial = f\"{letras_nome}{digitos_ano} {numero_nome}\"\n",
    "\n",
    "    senha_modificada = senha_inicial.upper() + \"!\"\n",
    "    \n",
    "    return senha_modificada\n",
    "\n",
    "# Criar um DataFrame com os dados\n",
    "df_gerar_senha = pd.DataFrame({\"Nome\": [nome], \n",
    "                               \"Data\": [data]\n",
    "                               })\n",
    "\n",
    "# Aplicar a função gerar_senha e adicionar a coluna de senhas ao DataFrame\n",
    "df_gerar_senha[\"Senha\"] = df_gerar_senha.apply(lambda row: gerar_senha(row[\"Nome\"], row[\"Data\"]), axis=1)\n",
    "\n",
    "# Mostrar a senha gerada\n",
    "print(df_gerar_senha[[\"Nome\", \"Senha\"]])\n"
   ]
  }
 ],
 "metadata": {
  "kernelspec": {
   "display_name": "Python 3",
   "language": "python",
   "name": "python3"
  },
  "language_info": {
   "codemirror_mode": {
    "name": "ipython",
    "version": 3
   },
   "file_extension": ".py",
   "mimetype": "text/x-python",
   "name": "python",
   "nbconvert_exporter": "python",
   "pygments_lexer": "ipython3",
   "version": "3.12.7"
  }
 },
 "nbformat": 4,
 "nbformat_minor": 5
}
