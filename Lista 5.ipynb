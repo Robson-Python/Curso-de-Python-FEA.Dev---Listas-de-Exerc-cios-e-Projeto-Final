{
 "cells": [
  {
   "cell_type": "markdown",
   "id": "3eb1954c",
   "metadata": {
    "id": "3eb1954c"
   },
   "source": [
    "### Fala devs, blz?\n",
    "\n",
    "Temos a honra de apresentar nossa 5ᵃ lista de exercícios do Curso de Python 2024 ! 🥳\n",
    "\n",
    "Dessa vez o tema será o módulo 5, que retrata sobre importações de bibliotecas e sobre a biblioteca _Numpy_ - muito importante para realização de códigos matemáticos e melhora de desempenho das operações.\n",
    "\n",
    "Esperamos que seja um estudo produtivo e que se divirtam aprendendo!"
   ]
  },
  {
   "cell_type": "markdown",
   "id": "2accc8ad",
   "metadata": {
    "id": "2accc8ad"
   },
   "source": [
    "---\n",
    "### INSTRUÇÕES:\n",
    "\n",
    "A realização da lista deve ser feita através no Jupyter Notebook.\n",
    "\n",
    "É primordial enviar as listas para praticar todo o conhecimento adquirido durante o curso.\n",
    "\n",
    "Este DESAFIO foi elaborado para quebrar a cabeça. Por isso, não desista de tentar e de continuar com o curso. Ao longo das listas, você perceberá que terá cada vez mais ferramentas para completá-las.\n",
    "\n",
    "Se surgirem dúvidas sobre a lista, assista as monitorias para entender melhor. Se o problema não for resolvido, envie uma mensagem para o formulário de dúvidas.\n",
    "\n",
    "---"
   ]
  },
  {
   "cell_type": "code",
   "execution_count": 49,
   "id": "d083b755",
   "metadata": {
    "executionInfo": {
     "elapsed": 460,
     "status": "ok",
     "timestamp": 1728655509818,
     "user": {
      "displayName": "FEA dev",
      "userId": "13103045966764146615"
     },
     "user_tz": 180
    },
    "id": "d083b755"
   },
   "outputs": [],
   "source": [
    "# Vamos começar importando algumas bibliotecas importantes para os exercícios. ps: Escolham o método que desejarem para resolução.\n",
    "import math\n",
    "import numpy as np\n",
    "import random as rd\n",
    "import datetime"
   ]
  },
  {
   "cell_type": "markdown",
   "id": "2c3bcf6b",
   "metadata": {
    "id": "2c3bcf6b"
   },
   "source": [
    "## Questão 0\n",
    "### Dr. Keynes\n",
    "\n",
    "![image.png](attachment:image.png)"
   ]
  },
  {
   "cell_type": "markdown",
   "id": "8cd66634",
   "metadata": {
    "id": "8cd66634"
   },
   "source": [
    "No início do século XX, o economista John Maynard Keynes revolucionou o pensamento econômico ao destacar a importância do Produto Interno Bruto (PIB) como uma medida essencial para entender a saúde de uma economia. O PIB é a soma de todos os bens e serviços finais produzidos em uma economia durante um determinado período. Para calculá-lo, basta multiplicar o valor de cada item pelo número de unidades vendidas.\n",
    "\n",
    "Sua missão é ajudar o governo das Ilhas Cayman a calcular o PIB do país neste ano, baseado nos dados fornecidos de três setores da economia: turismo, exportação de frutas tropicais, venda de acessórios, entrada de dinheiro estrangeiro e até a venda de valiosas pinturas.\n",
    "\n",
    "Crie duas matrizes usando o NumPy:\n",
    "\n",
    "A primeira matriz representa o valor unitário dos itens de cada setor.\n",
    "\n",
    "A segunda matriz representa a quantidade vendida de cada item.\n",
    "\n",
    "\n",
    "Sua missão é calcular o PIB das Ilhas Cayman com base com estes dados fictícios. Multiplique as duas matrizes para descobrir o PIB das Ilhas Cayman e exiba o resultado total e printar a seguinte mensagem:\n",
    "\"Com base nos cálculos, o Produto Interno Bruto (PIB) das Ilhas Cayman alcança X bilhões de dólares! Graças ao turismo, à arte, às frutas tropicais e à entrada de dinheiro estrangeiro.\""
   ]
  },
  {
   "cell_type": "markdown",
   "id": "052d04c2",
   "metadata": {
    "id": "052d04c2"
   },
   "source": [
    "![image.png](attachment:image.png)"
   ]
  },
  {
   "cell_type": "code",
   "execution_count": 50,
   "id": "19842b22",
   "metadata": {
    "id": "19842b22"
   },
   "outputs": [
    {
     "name": "stdout",
     "output_type": "stream",
     "text": [
      "Com base nos cálculos, o Produto Interno Bruto (PIB) das Ilhas Cayman alcança 1080.00 bilhões de dólares!\n",
      "Graças ao turismo, à arte, às frutas tropicais e à entrada de dinheiro estrangeiro.\n"
     ]
    }
   ],
   "source": [
    "# Faça a multiplicação de matrizes e o print aqui\n",
    "valor_unitario = np.array([1.2, 0.7, 0.3, 1.8, 2.0])\n",
    "\n",
    "unidades_vendidas = np.array ([100, 500, 200, 300, 5])\n",
    "\n",
    "valor_pib = np.dot(valor_unitario, unidades_vendidas)\n",
    "\n",
    "print(f\"Com base nos cálculos, o Produto Interno Bruto (PIB) das Ilhas Cayman alcança {valor_pib:.2f} bilhões de dólares!\\nGraças ao turismo, à arte, às frutas tropicais e à entrada de dinheiro estrangeiro.\")"
   ]
  },
  {
   "cell_type": "markdown",
   "id": "b21fc197",
   "metadata": {
    "id": "b21fc197"
   },
   "source": [
    "## Questão 1\n",
    "\n",
    "a) Filtrando notas abaixo de 7 Um professor quer saber quais alunos tiraram notas abaixo de 7 em uma turma de 100 alunos. Dado um array com as notas de cada aluno, filtre e exiba apenas as notas menores que 7, para que o professor possa ver quais alunos precisam de ajuda.\n",
    "Escreva um código para criar o array de notas e realizar o filtro das notas abaixo de 7."
   ]
  },
  {
   "cell_type": "code",
   "execution_count": 51,
   "id": "42c7e7a2",
   "metadata": {
    "id": "42c7e7a2",
    "outputId": "a791c50b-077a-4dee-95b3-9616bc3b2a05"
   },
   "outputs": [
    {
     "data": {
      "text/plain": [
       "array([8.68478906e+00, 8.41853455e+00, 1.42991544e-01, 5.10642063e+00,\n",
       "       1.90058313e+00, 1.53401720e-01, 7.67418196e+00, 6.78227951e+00,\n",
       "       8.65182424e+00, 2.98818101e+00, 3.64044707e+00, 3.45326659e+00,\n",
       "       1.57659887e+00, 4.47603581e+00, 4.06776725e+00, 3.04415517e+00,\n",
       "       6.92699228e+00, 2.42769029e+00, 2.42495046e+00, 8.46545941e+00,\n",
       "       5.58200914e+00, 5.77472527e+00, 4.46163987e+00, 7.34846235e+00,\n",
       "       3.26828929e+00, 7.68717704e+00, 9.89747400e+00, 6.26447358e+00,\n",
       "       6.86526338e+00, 9.67803222e+00, 1.17940533e+00, 7.93685434e+00,\n",
       "       1.06181333e+00, 2.33099577e+00, 9.69689210e+00, 3.63176309e+00,\n",
       "       4.91861865e-01, 1.46512911e+00, 5.78991074e+00, 7.62278325e+00,\n",
       "       6.83947819e+00, 7.48579630e+00, 5.84607851e+00, 6.18361158e+00,\n",
       "       2.68650962e+00, 9.65745170e+00, 7.31222890e-01, 1.47670234e+00,\n",
       "       5.28024959e+00, 4.95268384e+00, 5.92755132e-01, 3.43319657e+00,\n",
       "       1.78776543e-01, 5.26950045e-01, 8.41949237e+00, 4.21382299e+00,\n",
       "       4.02905925e-01, 3.82196769e+00, 9.21510848e+00, 1.73224478e+00,\n",
       "       7.91229566e+00, 7.37035281e+00, 7.34063971e+00, 9.64704564e+00,\n",
       "       1.80032940e+00, 6.09425863e+00, 3.61783653e+00, 2.57403117e-01,\n",
       "       6.61002990e+00, 7.47997436e+00, 5.61734192e+00, 2.41151055e-01,\n",
       "       7.91439715e+00, 9.49764543e+00, 6.69613513e+00, 7.78420682e+00,\n",
       "       9.72373660e+00, 4.40344081e+00, 8.67224205e+00, 1.47710957e+00,\n",
       "       8.34021577e+00, 5.92715313e+00, 2.03909711e-01, 7.53962574e+00,\n",
       "       4.86520132e+00, 7.87316547e+00, 8.50458071e+00, 3.12654881e+00,\n",
       "       4.94319321e+00, 3.84258208e+00, 4.39374621e+00, 9.91770454e+00,\n",
       "       7.56241459e+00, 3.30008890e-01, 3.01849709e+00, 3.35144326e+00,\n",
       "       5.39306025e+00, 6.06006703e-04, 4.39044652e-01, 8.38344837e+00])"
      ]
     },
     "execution_count": 51,
     "metadata": {},
     "output_type": "execute_result"
    }
   ],
   "source": [
    "notas = np.random.uniform(0, 10, size = 100)\n",
    "notas"
   ]
  },
  {
   "cell_type": "code",
   "execution_count": 52,
   "id": "e1caa05f",
   "metadata": {
    "id": "e1caa05f"
   },
   "outputs": [
    {
     "data": {
      "text/plain": [
       "array([1.42991544e-01, 5.10642063e+00, 1.90058313e+00, 1.53401720e-01,\n",
       "       6.78227951e+00, 2.98818101e+00, 3.64044707e+00, 3.45326659e+00,\n",
       "       1.57659887e+00, 4.47603581e+00, 4.06776725e+00, 3.04415517e+00,\n",
       "       6.92699228e+00, 2.42769029e+00, 2.42495046e+00, 5.58200914e+00,\n",
       "       5.77472527e+00, 4.46163987e+00, 3.26828929e+00, 6.26447358e+00,\n",
       "       6.86526338e+00, 1.17940533e+00, 1.06181333e+00, 2.33099577e+00,\n",
       "       3.63176309e+00, 4.91861865e-01, 1.46512911e+00, 5.78991074e+00,\n",
       "       6.83947819e+00, 5.84607851e+00, 6.18361158e+00, 2.68650962e+00,\n",
       "       7.31222890e-01, 1.47670234e+00, 5.28024959e+00, 4.95268384e+00,\n",
       "       5.92755132e-01, 3.43319657e+00, 1.78776543e-01, 5.26950045e-01,\n",
       "       4.21382299e+00, 4.02905925e-01, 3.82196769e+00, 1.73224478e+00,\n",
       "       1.80032940e+00, 6.09425863e+00, 3.61783653e+00, 2.57403117e-01,\n",
       "       6.61002990e+00, 5.61734192e+00, 2.41151055e-01, 6.69613513e+00,\n",
       "       4.40344081e+00, 1.47710957e+00, 5.92715313e+00, 2.03909711e-01,\n",
       "       4.86520132e+00, 3.12654881e+00, 4.94319321e+00, 3.84258208e+00,\n",
       "       4.39374621e+00, 3.30008890e-01, 3.01849709e+00, 3.35144326e+00,\n",
       "       5.39306025e+00, 6.06006703e-04, 4.39044652e-01])"
      ]
     },
     "execution_count": 52,
     "metadata": {},
     "output_type": "execute_result"
    }
   ],
   "source": [
    "#Escrava aqui o seu código\n",
    "\n",
    "#Notas menores que7.00\n",
    "notas[notas < 7.00]"
   ]
  },
  {
   "cell_type": "markdown",
   "id": "c922a69d",
   "metadata": {
    "id": "c922a69d"
   },
   "source": [
    "b) Enviando uma lista de itens para a loja\n",
    "\n",
    "Você foi ao mercado e anotou uma lista de itens, mas percebeu que alguns deles estavam repetidos. Agora você quer enviar para a loja apenas os itens únicos. Dado um array com sua lista de compras (com repetições), crie um código que mostre a lista final sem itens duplicados."
   ]
  },
  {
   "cell_type": "code",
   "execution_count": 53,
   "id": "b58b54bf",
   "metadata": {
    "id": "b58b54bf",
    "outputId": "086c4804-114f-4b1f-a201-c6c73a91bd61"
   },
   "outputs": [
    {
     "data": {
      "text/plain": [
       "array(['macarrão', 'picanha', 'feijão', 'banana', 'morango', 'picanha',\n",
       "       'cerveja', 'macarrão', 'cerveja', 'banana'], dtype='<U8')"
      ]
     },
     "execution_count": 53,
     "metadata": {},
     "output_type": "execute_result"
    }
   ],
   "source": [
    "lista_itens = np.array(['macarrão', 'picanha', 'feijão', 'banana', 'morango', 'picanha', 'cerveja', 'macarrão', 'cerveja', 'banana'])\n",
    "lista_itens"
   ]
  },
  {
   "cell_type": "code",
   "execution_count": 55,
   "id": "bdac63ff",
   "metadata": {},
   "outputs": [
    {
     "name": "stdout",
     "output_type": "stream",
     "text": [
      "['banana' 'cerveja' 'feijão' 'macarrão' 'morango' 'picanha']\n"
     ]
    }
   ],
   "source": [
    "#Lista final sem itens duplicados\n",
    "lista_unica = np.unique(lista_itens)\n",
    "print(lista_unica)\n"
   ]
  },
  {
   "cell_type": "markdown",
   "id": "5c89226e",
   "metadata": {
    "id": "5c89226e"
   },
   "source": [
    "c) Você é um explorador de planetas e precisa registrar a temperatura em 9 pontos de uma lua que você está investigando. Esses pontos estão organizados em uma grade 3x3. Crie uma matriz 3x3 para representar essas temperaturas, preenchida com números inteiros entre 100°C e 150°C, e exiba a matriz. Por fim, localize a temperatura registrada na segunda linha e terceira coluna."
   ]
  },
  {
   "cell_type": "code",
   "execution_count": 56,
   "id": "9de124ef",
   "metadata": {
    "id": "9de124ef"
   },
   "outputs": [],
   "source": [
    "lista_temperatura = ['100°c', '120°c', '150°c', '138°c', '112°c', '129°c', '144°c', '110°c', '105°c']\n"
   ]
  },
  {
   "cell_type": "code",
   "execution_count": 57,
   "id": "523b7811",
   "metadata": {},
   "outputs": [
    {
     "data": {
      "text/plain": [
       "array([['100°c', '120°c', '150°c'],\n",
       "       ['138°c', '112°c', '129°c'],\n",
       "       ['144°c', '110°c', '105°c']], dtype='<U5')"
      ]
     },
     "execution_count": 57,
     "metadata": {},
     "output_type": "execute_result"
    }
   ],
   "source": [
    "#Criação da matriz 3x3\n",
    "matriz = np.array(lista_temperatura).reshape(3, 3)\n",
    "matriz"
   ]
  },
  {
   "cell_type": "code",
   "execution_count": 9,
   "id": "2eb29be8",
   "metadata": {},
   "outputs": [
    {
     "name": "stdout",
     "output_type": "stream",
     "text": [
      "129°c\n"
     ]
    }
   ],
   "source": [
    "#Localização da temperatura registrada na segunda linha e terceira coluna.\n",
    "temperatura = matriz[1, 2]\n",
    "print(temperatura)"
   ]
  },
  {
   "cell_type": "markdown",
   "id": "0a8614a0",
   "metadata": {
    "id": "0a8614a0"
   },
   "source": [
    "## Questão 2\n",
    "\n",
    "Você é um famoso consultor financeiro internacional, constantemente viajando entre diferentes países e lidando com fusos horários variados. Como você é muito ocupado, precisa de um sistema que te ajude a organizar compromissos importantes automaticamente no horário local de cada país.\n",
    "\n",
    "Sua missão é criar um código que, ao receber a data e hora de um compromisso em um fuso horário (GMT), seja capaz de converter essa data e hora para o fuso horário local de outros três países: Brasil (GMT-3), Japão (GMT+9) e Estados Unidos (Nova York, GMT-4).\n",
    "\n",
    "Receba a data e hora de um compromisso (em GMT) e converta para os fusos horários locais do Brasil, Japão e Nova York.\n",
    "Exiba uma mensagem para o usuário indicando os horários em cada país, facilitando a organização da agenda.\n",
    "\n",
    "Saída Esperada:\n",
    "\n",
    "\"Seu compromisso será às 12:00 no Brasil, às 00:00 no Japão (do dia seguinte), e às 11:00 em Nova York.\""
   ]
  },
  {
   "cell_type": "code",
   "execution_count": 58,
   "id": "dde5b5e2",
   "metadata": {
    "id": "dde5b5e2"
   },
   "outputs": [],
   "source": [
    "compromisso_gmt = '2024-10-10 15:00:00'"
   ]
  },
  {
   "cell_type": "code",
   "execution_count": 61,
   "id": "cdc46900",
   "metadata": {
    "id": "cdc46900"
   },
   "outputs": [
    {
     "name": "stdout",
     "output_type": "stream",
     "text": [
      "Seu compromisso será às 12:00 no Brasil, às 00:00 no Japão (do dia seguinte), e às 11:00 em Nova York.\n"
     ]
    }
   ],
   "source": [
    "# Fiz uma pesquisa na documentação do Python como vocês orientaram, e aprendi que para utilizar a biblioteca datetime, \n",
    "# especifamente com fusos horários, é necessário instalar a biblioteca pytz. Até brinquei com um códido de exemplo \n",
    "# bem simples e o pytz realmente é uma mão na roda quando se trata em conversão de datas e horários que exigem fuso horário.\n",
    "# De acordo com meus estudos na documentação do Python e com base em nossos estudos anteriores, especificamente na aula \n",
    "# de Estrutura de dados, consegui escrever esse código:\n",
    "\n",
    "# Importação da biblioteca datetime e da biblioteca pytz devidamente instalada e importada\n",
    "from datetime import datetime\n",
    "import pytz\n",
    "\n",
    "# Criar objeto datetime a partir da string e definir o fuso horário GMT\n",
    "data_hora_gmt = pytz.timezone('GMT').localize(datetime.strptime(compromisso_gmt, \"%Y-%m-%d %H:%M:%S\"))\n",
    "\n",
    "# Criar um dicionário contendo os fusos horários locais\n",
    "fusos_horarios = {\n",
    "    \"Brasil\": 'America/Sao_Paulo',\n",
    "    \"Japão\": 'Asia/Tokyo',\n",
    "    \"Nova York\": 'America/New_York'\n",
    "}\n",
    "\n",
    "# Converter e formatar datas e horas\n",
    "horarios = {local: data_hora_gmt.astimezone(pytz.timezone(fuso)).strftime('%H:%M') \n",
    "            for local, fuso in fusos_horarios.items()}\n",
    "\n",
    "# Verificar se a data no Japão é do dia seguinte\n",
    "dia_japao = \"(do dia seguinte), \" if data_hora_gmt.date() < data_hora_gmt.astimezone(pytz.timezone(fusos_horarios[\"Japão\"])).date() else \"\"\n",
    "\n",
    "# Exibir a mensagem\n",
    "print(f\"Seu compromisso será às {horarios['Brasil']} no Brasil, às {horarios['Japão']} no Japão {dia_japao}e às {horarios['Nova York']} em Nova York.\")\n"
   ]
  },
  {
   "cell_type": "markdown",
   "id": "2aa99bcb",
   "metadata": {
    "id": "2aa99bcb"
   },
   "source": [
    "## Questão 3\n",
    "Uma loja de eletrônicos está fazendo uma análise dos preços de seus produtos e quer saber quais itens estão acima do preço médio. Dado um array com os preços de 17 produtos, calcule o preço médio e o desvio padrão e exiba apenas os produtos que custam mais do que a média.\n",
    "\n",
    "![image.png](attachment:image.png)\n",
    "\n",
    "Escreva um código para calcular o preço médio e filtrar os produtos acima desse valor."
   ]
  },
  {
   "cell_type": "code",
   "execution_count": 62,
   "id": "0f567fac",
   "metadata": {
    "id": "0f567fac",
    "outputId": "6e93c78d-779e-46f4-897a-ae5f089cee83"
   },
   "outputs": [
    {
     "name": "stdout",
     "output_type": "stream",
     "text": [
      "[23.1396193   0.62255848 19.00944705 22.46411648 14.95521037  6.74389937\n",
      "  5.94188594 22.81592137  5.0733251   2.65019443 20.56079455 28.60180039\n",
      "  0.11844799 15.3657679  24.37862885 18.375782   21.65265952]\n"
     ]
    }
   ],
   "source": [
    "np.random.seed(10)\n",
    "\n",
    "preço_produtos = np.random.uniform(0, 30, 17)\n",
    "\n",
    "print(preço_produtos)"
   ]
  },
  {
   "cell_type": "code",
   "execution_count": 63,
   "id": "caac3eb3",
   "metadata": {
    "id": "caac3eb3"
   },
   "outputs": [
    {
     "name": "stdout",
     "output_type": "stream",
     "text": [
      "O preço médio dos protutos é de R$ 14.85 com um desvio padrão de R$ 9.04.\n",
      "\n",
      "Os produtos com preço acima da média são: \n",
      " [23.1396193  19.00944705 22.46411648 14.95521037 22.81592137 20.56079455\n",
      " 28.60180039 15.3657679  24.37862885 18.375782   21.65265952]\n"
     ]
    }
   ],
   "source": [
    "# Escreva aqui o seu código\n",
    "\n",
    "# Preço Médio\n",
    "preco_medio = np.mean(preço_produtos)\n",
    "desvio_padrao = np.std(preço_produtos)\n",
    "\n",
    "acima_media = preço_produtos[preço_produtos > preco_medio]\n",
    "\n",
    "print(f\"O preço médio dos protutos é de R$ {preco_medio:.2f} com um desvio padrão de R$ {desvio_padrao:.2f}.\\n\") \n",
    "\n",
    "print(f\"Os produtos com preço acima da média são: \\n {acima_media}\")"
   ]
  },
  {
   "cell_type": "markdown",
   "id": "90b9450c",
   "metadata": {
    "id": "90b9450c"
   },
   "source": [
    "#\n",
    "Agora, utilize dos métodos .mean() e .std() para calcular a média e o desvio padrão do array anterior"
   ]
  },
  {
   "cell_type": "code",
   "execution_count": 64,
   "id": "36f4ea70",
   "metadata": {
    "id": "36f4ea70",
    "outputId": "07d7c5f1-e9f8-4497-a100-0a9a04f69c32"
   },
   "outputs": [
    {
     "name": "stdout",
     "output_type": "stream",
     "text": [
      "O preço médio dos produtos acima da média é de R$ 21.03, com um desvio padrão de R$ 3.80.\n"
     ]
    }
   ],
   "source": [
    "print(f\"O preço médio dos produtos acima da média é de R$ {acima_media.mean():.2f}, com um desvio padrão de R$ {acima_media.std():.2f}.\")\n"
   ]
  },
  {
   "cell_type": "markdown",
   "id": "02190760",
   "metadata": {
    "id": "02190760"
   },
   "source": [
    "## Desafio (Opcional)\n",
    "\n",
    "Uma grande cidade está implementando um novo sistema de transporte público e precisa que você analise os dados de tráfego para otimizar a distribuição de veículos em diferentes rotas. Eles te forneceram uma matriz tridimensional que representa a quantidade de passageiros transportados em 5 linhas de ônibus, durante 7 dias da semana, em 4 diferentes horários de pico (manhã, meio-dia, tarde e noite).\n",
    "\n",
    "Cada dimensão da matriz tem o seguinte significado:\n",
    "\n",
    "Eixo 0: Representa as 5 linhas de ônibus.\n",
    "Eixo 1: Representa os 7 dias da semana.\n",
    "Eixo 2: Representa os 4 horários de pico.\n",
    "\n",
    "Sua missão é ajudar a cidade a otimizar o sistema, resolvendo os seguintes desafios:\n",
    "\n",
    "\n",
    "Média de passageiros por linha: Calcule a média de passageiros transportados em cada uma das 5 linhas de ônibus ao longo da semana.\n",
    "\n",
    "Dia mais movimentado: Encontre qual dia da semana (entre os 7 dias) teve o maior número total de passageiros transportados em todas as linhas e horários de pico.\n",
    "\n",
    "Horário de pico mais movimentado: Identifique qual dos 4 horários de pico (manhã, meio-dia, tarde ou noite) transporta o maior número médio de passageiros.\n",
    "\n",
    "Redistribuição de veículos: A cidade está considerando mover veículos de linhas menos utilizadas para as mais movimentadas. Encontre as duas linhas de ônibus que têm a maior diferença no número total de passageiros ao longo da semana e proponha uma redistribuição onde 10% dos veículos da linha mais tranquila serão movidos para a linha mais movimentada.\n",
    "\n",
    "Pico de operação: Encontre as combinações de linha, dia e horário onde o número de passageiros excede 90% do valor máximo observado em toda a matriz. Estes representam momentos de pico extremo.\n",
    "\n",
    "\n",
    "Utilize operações de agregação do NumPy (como mean, sum, etc.) para resolver cada um dos desafios.\n",
    "Para o último desafio, utilize a técnica de indexação booleana para encontrar as posições que atendem à condição de pico de operação."
   ]
  },
  {
   "cell_type": "code",
   "execution_count": 65,
   "id": "90c91b22",
   "metadata": {
    "id": "90c91b22",
    "outputId": "10fd6acd-facb-41be-99a5-505a182111f4"
   },
   "outputs": [
    {
     "data": {
      "text/plain": [
       "array([[[149, 256, 289, 239],\n",
       "        [280, 168, 194, 123],\n",
       "        [ 58, 278, 281, 240],\n",
       "        [205, 162, 208, 258],\n",
       "        [ 57, 254, 193, 163],\n",
       "        [231, 281, 130,  77],\n",
       "        [ 94, 255, 253, 115]],\n",
       "\n",
       "       [[225,  80, 262, 136],\n",
       "        [175, 196, 171, 187],\n",
       "        [156,  91, 283, 240],\n",
       "        [179, 260, 153, 194],\n",
       "        [256,  55, 108,  50],\n",
       "        [258, 182, 160, 214],\n",
       "        [155, 229,  77,  81]],\n",
       "\n",
       "       [[ 52, 118,  88, 155],\n",
       "        [261, 197,  68, 163],\n",
       "        [295, 185, 150, 158],\n",
       "        [159, 208, 240,  61],\n",
       "        [285, 117, 174, 243],\n",
       "        [233, 181, 141, 128],\n",
       "        [205, 207,  83, 267]],\n",
       "\n",
       "       [[135, 185,  66, 144],\n",
       "        [ 64, 268,  81,  59],\n",
       "        [ 88,  97, 194, 183],\n",
       "        [212, 223, 237, 202],\n",
       "        [191, 168, 285, 282],\n",
       "        [ 81,  82, 126, 222],\n",
       "        [183, 192, 225, 144]],\n",
       "\n",
       "       [[132, 178, 281, 185],\n",
       "        [264,  66, 114,  58],\n",
       "        [268,  94, 176, 215],\n",
       "        [144, 253, 183, 283],\n",
       "        [200, 230, 119, 260],\n",
       "        [238, 141,  79, 266],\n",
       "        [170, 275, 270, 257]]], dtype=int32)"
      ]
     },
     "execution_count": 65,
     "metadata": {},
     "output_type": "execute_result"
    }
   ],
   "source": [
    "np.random.seed(5)\n",
    "passageiros = np.random.randint(50, 300, size=(5, 7, 4))\n",
    "passageiros"
   ]
  },
  {
   "cell_type": "code",
   "execution_count": 66,
   "id": "a3e21930",
   "metadata": {
    "id": "a3e21930"
   },
   "outputs": [
    {
     "name": "stdout",
     "output_type": "stream",
     "text": [
      "A média de passageiros por linha é: \n"
     ]
    },
    {
     "data": {
      "text/plain": [
       "(np.float64(196.10714285714286),\n",
       " np.float64(171.89285714285714),\n",
       " np.float64(172.21428571428572),\n",
       " np.float64(164.96428571428572),\n",
       " np.float64(192.82142857142858))"
      ]
     },
     "execution_count": 66,
     "metadata": {},
     "output_type": "execute_result"
    }
   ],
   "source": [
    "#Média de passageiros por linha\n",
    "media_por_linha = np.mean(passageiros, axis=(1, 2))\n",
    "print(f\"A média de passageiros por linha é: \")\n",
    "*media_por_linha,"
   ]
  },
  {
   "cell_type": "code",
   "execution_count": 67,
   "id": "9b7630fe",
   "metadata": {},
   "outputs": [
    {
     "name": "stdout",
     "output_type": "stream",
     "text": [
      "Dia_mais_movimentado:  Quinta\n"
     ]
    }
   ],
   "source": [
    "#Dia mais movimentado\n",
    "passageiros_por_dia = np.sum(passageiros, axis=(0, 2))\n",
    "\n",
    "dia_mais_movimentado = np.argmax(passageiros_por_dia)\n",
    "\n",
    "dias_da_semana = {\n",
    "    0: \"Segunda\",\n",
    "    1: \"Terça\",\n",
    "    2: \"Quarta\",\n",
    "    3: \"Quinta\",\n",
    "    4: \"Sexta\",\n",
    "    5: \"Sábado\",\n",
    "    6: \"Domingo\"\n",
    "}\n",
    "\n",
    "print(\"Dia_mais_movimentado: \", dias_da_semana[dia_mais_movimentado])"
   ]
  },
  {
   "cell_type": "code",
   "execution_count": 68,
   "id": "013299e7",
   "metadata": {},
   "outputs": [
    {
     "name": "stdout",
     "output_type": "stream",
     "text": [
      "Horário mais movimentado:  Meio-dia\n"
     ]
    }
   ],
   "source": [
    "#Horário mais movimentado\n",
    "media_por_horario = np.mean(passageiros, axis=(0, 1))\n",
    "\n",
    "horario_mais_movimentado = np.argmax(media_por_horario)\n",
    "\n",
    "horarios = {\n",
    "    0: \"Manhã\",\n",
    "    1: \"Meio-dia\",\n",
    "    2: \"Tarde\",\n",
    "    3: \"Noite\"\n",
    "}\n",
    "\n",
    "print(\"Horário mais movimentado: \", horarios[horario_mais_movimentado])"
   ]
  },
  {
   "cell_type": "code",
   "execution_count": 69,
   "id": "6f2cb146",
   "metadata": {},
   "outputs": [
    {
     "name": "stdout",
     "output_type": "stream",
     "text": [
      "Linha mais movimentada:  1\n",
      "Linha menos movimentada:  4\n",
      "Mover 549 passageiros da linha mais movimentada para a menos movimentada\n",
      "Valor final de cada linha:\n",
      "\tMenos movimentada: 5168\n",
      "\tMais movimentada: 4942\n"
     ]
    }
   ],
   "source": [
    "#Redistribuição de  veículos\n",
    "total_por_linha = np.sum(passageiros, axis=(1, 2))\n",
    "linha_mais_movimentada = np.argmax(total_por_linha)\n",
    "linha_menos_movimentada = np.argmin(total_por_linha)\n",
    "\n",
    "print(\"Linha mais movimentada: \", linha_mais_movimentada + 1)\n",
    "print(\"Linha menos movimentada: \", linha_menos_movimentada + 1)\n",
    "\n",
    "print(f\"Mover {total_por_linha[linha_mais_movimentada] * 0.1:.0f} passageiros da linha mais movimentada para a menos movimentada\")\n",
    "\n",
    "print(f\"Valor final de cada linha:\\n\\tMenos movimentada: {total_por_linha[linha_menos_movimentada] + total_por_linha[linha_mais_movimentada] * 0.1:.0f}\\n\\tMais movimentada: {total_por_linha[linha_mais_movimentada] * 0.9:.0f}\")"
   ]
  },
  {
   "cell_type": "code",
   "execution_count": 70,
   "id": "900a91e7",
   "metadata": {},
   "outputs": [
    {
     "name": "stdout",
     "output_type": "stream",
     "text": [
      "O limite de passageiros para o horário de pico é de 266 passageiros\n",
      "\n",
      "\n",
      "Momentos de pico extremo (linha, dia, horário):\n",
      " [[0 0 2]\n",
      " [0 1 0]\n",
      " [0 2 1]\n",
      " [0 2 2]\n",
      " [0 5 1]\n",
      " [1 2 2]\n",
      " [2 2 0]\n",
      " [2 4 0]\n",
      " [2 6 3]\n",
      " [3 1 1]\n",
      " [3 4 2]\n",
      " [3 4 3]\n",
      " [4 0 2]\n",
      " [4 2 0]\n",
      " [4 3 3]\n",
      " [4 5 3]\n",
      " [4 6 1]\n",
      " [4 6 2]]\n"
     ]
    }
   ],
   "source": [
    "#Pico de operação\n",
    "max_passageiros = np.max(passageiros)\n",
    "limite_pico = max_passageiros * 0.9\n",
    "\n",
    "print(f\"O limite de passageiros para o horário de pico é de {limite_pico:.0f} passageiros\")\n",
    "\n",
    "print(\"\\n\")\n",
    "\n",
    "picos_de_operacao = np.argwhere(passageiros > limite_pico)\n",
    "\n",
    "print(\"Momentos de pico extremo (linha, dia, horário):\\n\", picos_de_operacao)"
   ]
  }
 ],
 "metadata": {
  "colab": {
   "provenance": []
  },
  "kernelspec": {
   "display_name": "Python 3",
   "language": "python",
   "name": "python3"
  },
  "language_info": {
   "codemirror_mode": {
    "name": "ipython",
    "version": 3
   },
   "file_extension": ".py",
   "mimetype": "text/x-python",
   "name": "python",
   "nbconvert_exporter": "python",
   "pygments_lexer": "ipython3",
   "version": "3.12.7"
  }
 },
 "nbformat": 4,
 "nbformat_minor": 5
}
